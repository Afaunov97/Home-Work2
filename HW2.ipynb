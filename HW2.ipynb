{
 "cells": [
  {
   "cell_type": "markdown",
   "metadata": {},
   "source": [
    "Задание1"
   ]
  },
  {
   "cell_type": "code",
   "execution_count": 2,
   "metadata": {},
   "outputs": [
    {
     "name": "stdout",
     "output_type": "stream",
     "text": [
      "Фразы равной длины\n"
     ]
    }
   ],
   "source": [
    "phrase1 = \"Тяжело в учении легко в бою\"\n",
    "phrase2 = \"Тяжело в учении легко в бою\"\n",
    "if len (phrase1) > len (phrase2):\n",
    "    print(\"Фраза 1 длинее фразы 2\")\n",
    "elif len (phrase1) < len (phrase2):\n",
    "    print(\"Фраза 2 длинее фразы 1\")\n",
    "elif len (phrase1) == len (phrase2):\n",
    "    print(\"Фразы равной длины\")"
   ]
  },
  {
   "cell_type": "code",
   "execution_count": 7,
   "metadata": {},
   "outputs": [
    {
     "name": "stdout",
     "output_type": "stream",
     "text": [
      "Фраза 1 длинее фразы 2\n"
     ]
    }
   ],
   "source": [
    "phrase1 = \"Без труда не вытащишь рыбку из пруда\"\n",
    "phrase2 = \"Тяжело в учении легко в бою\"\n",
    "if len (phrase1) > len (phrase2):\n",
    "    print(\"Фраза 1 длинее фразы 2\")\n",
    "elif len (phrase1) < len (phrase2):\n",
    "    print(\"Фраза 2 длинее фразы 1\")"
   ]
  },
  {
   "cell_type": "code",
   "execution_count": 60,
   "metadata": {},
   "outputs": [
    {
     "name": "stdout",
     "output_type": "stream",
     "text": [
      "Фраза 2 длинее фразы 1\n"
     ]
    }
   ],
   "source": [
    "phrase1 = \"Тяжело в учении легко в бою\"\n",
    "phrase2 = \"Без труда не вытащишь рыбку из пруда\"\n",
    "if len (phrase1) > len (phrase2):\n",
    "    print(\"Фраза 1 длинее фразы 2\")\n",
    "elif len (phrase1) < len (phrase2):\n",
    "    print(\"Фраза 2 длинее фразы 1\")"
   ]
  },
  {
   "cell_type": "markdown",
   "metadata": {},
   "source": [
    "Задание 2"
   ]
  },
  {
   "cell_type": "code",
   "execution_count": 42,
   "metadata": {},
   "outputs": [
    {
     "name": "stdout",
     "output_type": "stream",
     "text": [
      "Введите год2020\n",
      "Високосный\n"
     ]
    }
   ],
   "source": [
    "year = int(input(\"Введите год\"))\n",
    "if (year % 4 == 0) & (year % 100 != 0) or (year % 400 == 0):\n",
    "    print(\"Високосный\")\n",
    "else:\n",
    "    print(\"Обычный\")"
   ]
  },
  {
   "cell_type": "markdown",
   "metadata": {},
   "source": [
    "Задание 3"
   ]
  },
  {
   "cell_type": "code",
   "execution_count": null,
   "metadata": {},
   "outputs": [],
   "source": [
    "width = int(input(\"Ширина\"))\n",
    "lenght = int(input(\"Длина\"))\n",
    "height = int(input(\"Высота\"))\n",
    "if width & lenght & height < 15:\n",
    "    print(\"Коробка №1\")\n",
    "elif (width <15 < 50) or (lenght <15 < 50) or (height <15 < 50):   \n",
    "    print(\"Коробка №2\")"
   ]
  },
  {
   "cell_type": "code",
   "execution_count": 8,
   "metadata": {},
   "outputs": [
    {
     "name": "stdout",
     "output_type": "stream",
     "text": [
      "Введите день рождения:4\n",
      "Введите месяц рождения:5\n",
      "Знак зодиака:Телец\n"
     ]
    }
   ],
   "source": [
    "day=int(input(\"Введите день рождения:\"))\n",
    "month=int(input(\"Введите месяц рождения:\"))\n",
    "if (day >= 21 and day<= 31 and month == 3) or( month == 4 and day >= 1 and day <= 19):\n",
    "    print(\"Знак зодиака:Овен\")\n",
    "elif (day >= 20 and day <=30 and month == 4) or( month == 5 and day >=1 and day <=20):\n",
    "    print(\"Знак зодиака:Телец\")\n",
    "elif (day >= 21 and day <=31 and month == 5) or( month == 6 and day >=1 and day <= 21):\n",
    "    print(\"Знак зодиака:Близнецы\")\n",
    "elif (day >= 22 and day <= 30 and month == 6) or( month == 7 and day >= 1 and day <= 22):\n",
    "    print(\"Знак зодиака:Рак\")\n",
    "elif (day >= 23 and day <= 31 and month == 7) or( month == 8 and day >=1 and day <= 22):\n",
    "    print(\"Знак зодиака:Лев\")\n",
    "elif (day >= 23 and day <= 31 and month == 8) or( month == 9 and day >= 1 and day <= 22):\n",
    "    print(\"Знак зодиака:Дева\")\n",
    "elif (day >= 23 and day <= 30 and month == 9) or( month == 10 and day >= 1 and day <= 23):\n",
    "    print(\"Знак зодиака:Весы\")\n",
    "elif (day >= 24 and day <= 31 and month == 10) or( month == 11 and day >= 1 and day <= 22):\n",
    "    print(\"Знак зодиака:Скорпион\")\n",
    "elif (day >= 23 and day <= 30 and month == 11) or( month == 12 and day >= 1 and day <= 21):\n",
    "    print(\"Знак зодиака:Стрелец\")\n",
    "elif (day >= 22 and day <= 31 and month == 12) or( month == 1 and day >= 1 and day <= 20):\n",
    "    print(\"Знак зодиака:Козерог\")\n",
    "elif (day >= 21 and day <= 31 and month == 1) or( month == 2 and day >= 1 and day <= 18):\n",
    "    print(\"Знак зодиака:Водолей\")\n",
    "elif (day >= 19 and day <= 29 and month == 2) or( month == 3 and day >= 1 and day <= 20):\n",
    "    print(\"Знак зодиака:Рыбы\")"
   ]
  },
  {
   "cell_type": "markdown",
   "metadata": {},
   "source": [
    "Задане 4"
   ]
  },
  {
   "cell_type": "code",
   "execution_count": 43,
   "metadata": {},
   "outputs": [
    {
     "name": "stdout",
     "output_type": "stream",
     "text": [
      "Ширина 65\n",
      "Длина 199\n",
      "Высота 92\n",
      "Стандартная коробка №3\n"
     ]
    }
   ],
   "source": [
    "width = int(input(\"Ширина \"))\n",
    "length = int(input(\"Длина \"))\n",
    "height = int(input(\"Высота \"))\n",
    "if width < 15 and length < 15 and height < 15:\n",
    "    print(\"Коробка №1\")\n",
    "elif ((width >= 15 and width <= 50) or (length >= 15 and length <= 50) or (height >= 15 and height <= 50)):\n",
    "    print(\"Коробка №2\")\n",
    "elif length >= 200:\n",
    "    print(\"Упаковка для лыж\")\n",
    "else:\n",
    "    print(\"Стандартная коробка №3\")"
   ]
  },
  {
   "cell_type": "markdown",
   "metadata": {},
   "source": [
    "Задание 5"
   ]
  },
  {
   "cell_type": "code",
   "execution_count": 53,
   "metadata": {},
   "outputs": [
    {
     "name": "stdout",
     "output_type": "stream",
     "text": [
      "Введите номер билета из 6 цифр: 456987\n",
      "Обычный\n"
     ]
    }
   ],
   "source": [
    "bilet = input(\"Введите номер билета из 6 цифр: \")\n",
    "numbers = list(bilet)\n",
    "numbers = [int(i) for i in numbers]\n",
    "if (sum(numbers[:3]) == sum(numbers[3:])):\n",
    "    print(\"Счастливый\")\n",
    "else:\n",
    "    print(\"Обычный\")"
   ]
  }
 ],
 "metadata": {
  "kernelspec": {
   "display_name": "Python 3",
   "language": "python",
   "name": "python3"
  },
  "language_info": {
   "codemirror_mode": {
    "name": "ipython",
    "version": 3
   },
   "file_extension": ".py",
   "mimetype": "text/x-python",
   "name": "python",
   "nbconvert_exporter": "python",
   "pygments_lexer": "ipython3",
   "version": "3.8.3"
  }
 },
 "nbformat": 4,
 "nbformat_minor": 4
}
